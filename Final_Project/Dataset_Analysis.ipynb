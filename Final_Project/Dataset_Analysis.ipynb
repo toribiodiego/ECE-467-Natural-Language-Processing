{
  "nbformat": 4,
  "nbformat_minor": 0,
  "metadata": {
    "colab": {
      "provenance": []
    },
    "kernelspec": {
      "name": "python3",
      "display_name": "Python 3"
    },
    "language_info": {
      "name": "python"
    }
  },
  "cells": [
    {
      "cell_type": "code",
      "source": [
        "!pip install --upgrade --no-cache-dir torch==2.0.1 torchvision==0.15.2 transformers==4.30.2 datasets"
      ],
      "metadata": {
        "colab": {
          "base_uri": "https://localhost:8080/"
        },
        "collapsed": true,
        "id": "fnwgxr6MMv9L",
        "outputId": "7e5ab6d2-4dc7-49ef-867c-5d352aece193"
      },
      "execution_count": null,
      "outputs": [
        {
          "output_type": "stream",
          "name": "stdout",
          "text": [
            "Collecting torch==2.0.1\n",
            "  Downloading torch-2.0.1-cp310-cp310-manylinux1_x86_64.whl.metadata (24 kB)\n",
            "Collecting torchvision==0.15.2\n",
            "  Downloading torchvision-0.15.2-cp310-cp310-manylinux1_x86_64.whl.metadata (11 kB)\n",
            "Collecting transformers==4.30.2\n",
            "  Downloading transformers-4.30.2-py3-none-any.whl.metadata (113 kB)\n",
            "\u001b[2K     \u001b[90m━━━━━━━━━━━━━━━━━━━━━━━━━━━━━━━━━━━━━━━━\u001b[0m \u001b[32m113.6/113.6 kB\u001b[0m \u001b[31m12.3 MB/s\u001b[0m eta \u001b[36m0:00:00\u001b[0m\n",
            "\u001b[?25hCollecting datasets\n",
            "  Downloading datasets-3.2.0-py3-none-any.whl.metadata (20 kB)\n",
            "Requirement already satisfied: filelock in /usr/local/lib/python3.10/dist-packages (from torch==2.0.1) (3.16.1)\n",
            "Requirement already satisfied: typing-extensions in /usr/local/lib/python3.10/dist-packages (from torch==2.0.1) (4.12.2)\n",
            "Requirement already satisfied: sympy in /usr/local/lib/python3.10/dist-packages (from torch==2.0.1) (1.13.1)\n",
            "Requirement already satisfied: networkx in /usr/local/lib/python3.10/dist-packages (from torch==2.0.1) (3.4.2)\n",
            "Requirement already satisfied: jinja2 in /usr/local/lib/python3.10/dist-packages (from torch==2.0.1) (3.1.4)\n",
            "Collecting nvidia-cuda-nvrtc-cu11==11.7.99 (from torch==2.0.1)\n",
            "  Downloading nvidia_cuda_nvrtc_cu11-11.7.99-2-py3-none-manylinux1_x86_64.whl.metadata (1.5 kB)\n",
            "Collecting nvidia-cuda-runtime-cu11==11.7.99 (from torch==2.0.1)\n",
            "  Downloading nvidia_cuda_runtime_cu11-11.7.99-py3-none-manylinux1_x86_64.whl.metadata (1.6 kB)\n",
            "Collecting nvidia-cuda-cupti-cu11==11.7.101 (from torch==2.0.1)\n",
            "  Downloading nvidia_cuda_cupti_cu11-11.7.101-py3-none-manylinux1_x86_64.whl.metadata (1.6 kB)\n",
            "Collecting nvidia-cudnn-cu11==8.5.0.96 (from torch==2.0.1)\n",
            "  Downloading nvidia_cudnn_cu11-8.5.0.96-2-py3-none-manylinux1_x86_64.whl.metadata (1.6 kB)\n",
            "Collecting nvidia-cublas-cu11==11.10.3.66 (from torch==2.0.1)\n",
            "  Downloading nvidia_cublas_cu11-11.10.3.66-py3-none-manylinux1_x86_64.whl.metadata (1.6 kB)\n",
            "Collecting nvidia-cufft-cu11==10.9.0.58 (from torch==2.0.1)\n",
            "  Downloading nvidia_cufft_cu11-10.9.0.58-py3-none-manylinux2014_x86_64.whl.metadata (1.5 kB)\n",
            "Collecting nvidia-curand-cu11==10.2.10.91 (from torch==2.0.1)\n",
            "  Downloading nvidia_curand_cu11-10.2.10.91-py3-none-manylinux1_x86_64.whl.metadata (1.6 kB)\n",
            "Collecting nvidia-cusolver-cu11==11.4.0.1 (from torch==2.0.1)\n",
            "  Downloading nvidia_cusolver_cu11-11.4.0.1-2-py3-none-manylinux1_x86_64.whl.metadata (1.6 kB)\n",
            "Collecting nvidia-cusparse-cu11==11.7.4.91 (from torch==2.0.1)\n",
            "  Downloading nvidia_cusparse_cu11-11.7.4.91-py3-none-manylinux1_x86_64.whl.metadata (1.6 kB)\n",
            "Collecting nvidia-nccl-cu11==2.14.3 (from torch==2.0.1)\n",
            "  Downloading nvidia_nccl_cu11-2.14.3-py3-none-manylinux1_x86_64.whl.metadata (1.8 kB)\n",
            "Collecting nvidia-nvtx-cu11==11.7.91 (from torch==2.0.1)\n",
            "  Downloading nvidia_nvtx_cu11-11.7.91-py3-none-manylinux1_x86_64.whl.metadata (1.7 kB)\n",
            "Collecting triton==2.0.0 (from torch==2.0.1)\n",
            "  Downloading triton-2.0.0-1-cp310-cp310-manylinux2014_x86_64.manylinux_2_17_x86_64.whl.metadata (1.0 kB)\n",
            "Requirement already satisfied: numpy in /usr/local/lib/python3.10/dist-packages (from torchvision==0.15.2) (1.26.4)\n",
            "Requirement already satisfied: requests in /usr/local/lib/python3.10/dist-packages (from torchvision==0.15.2) (2.32.3)\n",
            "Requirement already satisfied: pillow!=8.3.*,>=5.3.0 in /usr/local/lib/python3.10/dist-packages (from torchvision==0.15.2) (11.0.0)\n",
            "Requirement already satisfied: huggingface-hub<1.0,>=0.14.1 in /usr/local/lib/python3.10/dist-packages (from transformers==4.30.2) (0.26.5)\n",
            "Requirement already satisfied: packaging>=20.0 in /usr/local/lib/python3.10/dist-packages (from transformers==4.30.2) (24.2)\n",
            "Requirement already satisfied: pyyaml>=5.1 in /usr/local/lib/python3.10/dist-packages (from transformers==4.30.2) (6.0.2)\n",
            "Requirement already satisfied: regex!=2019.12.17 in /usr/local/lib/python3.10/dist-packages (from transformers==4.30.2) (2024.9.11)\n",
            "Collecting tokenizers!=0.11.3,<0.14,>=0.11.1 (from transformers==4.30.2)\n",
            "  Downloading tokenizers-0.13.3-cp310-cp310-manylinux_2_17_x86_64.manylinux2014_x86_64.whl.metadata (6.7 kB)\n",
            "Requirement already satisfied: safetensors>=0.3.1 in /usr/local/lib/python3.10/dist-packages (from transformers==4.30.2) (0.4.5)\n",
            "Requirement already satisfied: tqdm>=4.27 in /usr/local/lib/python3.10/dist-packages (from transformers==4.30.2) (4.66.6)\n",
            "Requirement already satisfied: setuptools in /usr/local/lib/python3.10/dist-packages (from nvidia-cublas-cu11==11.10.3.66->torch==2.0.1) (75.1.0)\n",
            "Requirement already satisfied: wheel in /usr/local/lib/python3.10/dist-packages (from nvidia-cublas-cu11==11.10.3.66->torch==2.0.1) (0.45.1)\n",
            "Requirement already satisfied: cmake in /usr/local/lib/python3.10/dist-packages (from triton==2.0.0->torch==2.0.1) (3.30.5)\n",
            "Collecting lit (from triton==2.0.0->torch==2.0.1)\n",
            "  Downloading lit-18.1.8-py3-none-any.whl.metadata (2.5 kB)\n",
            "Requirement already satisfied: pyarrow>=15.0.0 in /usr/local/lib/python3.10/dist-packages (from datasets) (17.0.0)\n",
            "Collecting dill<0.3.9,>=0.3.0 (from datasets)\n",
            "  Downloading dill-0.3.8-py3-none-any.whl.metadata (10 kB)\n",
            "Requirement already satisfied: pandas in /usr/local/lib/python3.10/dist-packages (from datasets) (2.2.2)\n",
            "Collecting xxhash (from datasets)\n",
            "  Downloading xxhash-3.5.0-cp310-cp310-manylinux_2_17_x86_64.manylinux2014_x86_64.whl.metadata (12 kB)\n",
            "Collecting multiprocess<0.70.17 (from datasets)\n",
            "  Downloading multiprocess-0.70.16-py310-none-any.whl.metadata (7.2 kB)\n",
            "Collecting fsspec<=2024.9.0,>=2023.1.0 (from fsspec[http]<=2024.9.0,>=2023.1.0->datasets)\n",
            "  Downloading fsspec-2024.9.0-py3-none-any.whl.metadata (11 kB)\n",
            "Requirement already satisfied: aiohttp in /usr/local/lib/python3.10/dist-packages (from datasets) (3.11.10)\n",
            "Requirement already satisfied: aiohappyeyeballs>=2.3.0 in /usr/local/lib/python3.10/dist-packages (from aiohttp->datasets) (2.4.4)\n",
            "Requirement already satisfied: aiosignal>=1.1.2 in /usr/local/lib/python3.10/dist-packages (from aiohttp->datasets) (1.3.1)\n",
            "Requirement already satisfied: async-timeout<6.0,>=4.0 in /usr/local/lib/python3.10/dist-packages (from aiohttp->datasets) (4.0.3)\n",
            "Requirement already satisfied: attrs>=17.3.0 in /usr/local/lib/python3.10/dist-packages (from aiohttp->datasets) (24.2.0)\n",
            "Requirement already satisfied: frozenlist>=1.1.1 in /usr/local/lib/python3.10/dist-packages (from aiohttp->datasets) (1.5.0)\n",
            "Requirement already satisfied: multidict<7.0,>=4.5 in /usr/local/lib/python3.10/dist-packages (from aiohttp->datasets) (6.1.0)\n",
            "Requirement already satisfied: propcache>=0.2.0 in /usr/local/lib/python3.10/dist-packages (from aiohttp->datasets) (0.2.1)\n",
            "Requirement already satisfied: yarl<2.0,>=1.17.0 in /usr/local/lib/python3.10/dist-packages (from aiohttp->datasets) (1.18.3)\n",
            "Requirement already satisfied: charset-normalizer<4,>=2 in /usr/local/lib/python3.10/dist-packages (from requests->torchvision==0.15.2) (3.4.0)\n",
            "Requirement already satisfied: idna<4,>=2.5 in /usr/local/lib/python3.10/dist-packages (from requests->torchvision==0.15.2) (3.10)\n",
            "Requirement already satisfied: urllib3<3,>=1.21.1 in /usr/local/lib/python3.10/dist-packages (from requests->torchvision==0.15.2) (2.2.3)\n",
            "Requirement already satisfied: certifi>=2017.4.17 in /usr/local/lib/python3.10/dist-packages (from requests->torchvision==0.15.2) (2024.8.30)\n",
            "Requirement already satisfied: MarkupSafe>=2.0 in /usr/local/lib/python3.10/dist-packages (from jinja2->torch==2.0.1) (3.0.2)\n",
            "Requirement already satisfied: python-dateutil>=2.8.2 in /usr/local/lib/python3.10/dist-packages (from pandas->datasets) (2.8.2)\n",
            "Requirement already satisfied: pytz>=2020.1 in /usr/local/lib/python3.10/dist-packages (from pandas->datasets) (2024.2)\n",
            "Requirement already satisfied: tzdata>=2022.7 in /usr/local/lib/python3.10/dist-packages (from pandas->datasets) (2024.2)\n",
            "Requirement already satisfied: mpmath<1.4,>=1.1.0 in /usr/local/lib/python3.10/dist-packages (from sympy->torch==2.0.1) (1.3.0)\n",
            "Requirement already satisfied: six>=1.5 in /usr/local/lib/python3.10/dist-packages (from python-dateutil>=2.8.2->pandas->datasets) (1.17.0)\n",
            "Downloading torch-2.0.1-cp310-cp310-manylinux1_x86_64.whl (619.9 MB)\n",
            "\u001b[2K   \u001b[90m━━━━━━━━━━━━━━━━━━━━━━━━━━━━━━━━━━━━━━━━\u001b[0m \u001b[32m619.9/619.9 MB\u001b[0m \u001b[31m201.3 MB/s\u001b[0m eta \u001b[36m0:00:00\u001b[0m\n",
            "\u001b[?25hDownloading torchvision-0.15.2-cp310-cp310-manylinux1_x86_64.whl (6.0 MB)\n",
            "\u001b[2K   \u001b[90m━━━━━━━━━━━━━━━━━━━━━━━━━━━━━━━━━━━━━━━━\u001b[0m \u001b[32m6.0/6.0 MB\u001b[0m \u001b[31m194.4 MB/s\u001b[0m eta \u001b[36m0:00:00\u001b[0m\n",
            "\u001b[?25hDownloading transformers-4.30.2-py3-none-any.whl (7.2 MB)\n",
            "\u001b[2K   \u001b[90m━━━━━━━━━━━━━━━━━━━━━━━━━━━━━━━━━━━━━━━━\u001b[0m \u001b[32m7.2/7.2 MB\u001b[0m \u001b[31m196.7 MB/s\u001b[0m eta \u001b[36m0:00:00\u001b[0m\n",
            "\u001b[?25hDownloading nvidia_cublas_cu11-11.10.3.66-py3-none-manylinux1_x86_64.whl (317.1 MB)\n",
            "\u001b[2K   \u001b[90m━━━━━━━━━━━━━━━━━━━━━━━━━━━━━━━━━━━━━━━━\u001b[0m \u001b[32m317.1/317.1 MB\u001b[0m \u001b[31m183.7 MB/s\u001b[0m eta \u001b[36m0:00:00\u001b[0m\n",
            "\u001b[?25hDownloading nvidia_cuda_cupti_cu11-11.7.101-py3-none-manylinux1_x86_64.whl (11.8 MB)\n",
            "\u001b[2K   \u001b[90m━━━━━━━━━━━━━━━━━━━━━━━━━━━━━━━━━━━━━━━━\u001b[0m \u001b[32m11.8/11.8 MB\u001b[0m \u001b[31m218.3 MB/s\u001b[0m eta \u001b[36m0:00:00\u001b[0m\n",
            "\u001b[?25hDownloading nvidia_cuda_nvrtc_cu11-11.7.99-2-py3-none-manylinux1_x86_64.whl (21.0 MB)\n",
            "\u001b[2K   \u001b[90m━━━━━━━━━━━━━━━━━━━━━━━━━━━━━━━━━━━━━━━━\u001b[0m \u001b[32m21.0/21.0 MB\u001b[0m \u001b[31m231.3 MB/s\u001b[0m eta \u001b[36m0:00:00\u001b[0m\n",
            "\u001b[?25hDownloading nvidia_cuda_runtime_cu11-11.7.99-py3-none-manylinux1_x86_64.whl (849 kB)\n",
            "\u001b[2K   \u001b[90m━━━━━━━━━━━━━━━━━━━━━━━━━━━━━━━━━━━━━━━━\u001b[0m \u001b[32m849.3/849.3 kB\u001b[0m \u001b[31m170.7 MB/s\u001b[0m eta \u001b[36m0:00:00\u001b[0m\n",
            "\u001b[?25hDownloading nvidia_cudnn_cu11-8.5.0.96-2-py3-none-manylinux1_x86_64.whl (557.1 MB)\n",
            "\u001b[2K   \u001b[90m━━━━━━━━━━━━━━━━━━━━━━━━━━━━━━━━━━━━━━━━\u001b[0m \u001b[32m557.1/557.1 MB\u001b[0m \u001b[31m120.9 MB/s\u001b[0m eta \u001b[36m0:00:00\u001b[0m\n",
            "\u001b[?25hDownloading nvidia_cufft_cu11-10.9.0.58-py3-none-manylinux2014_x86_64.whl (168.4 MB)\n",
            "\u001b[2K   \u001b[90m━━━━━━━━━━━━━━━━━━━━━━━━━━━━━━━━━━━━━━━━\u001b[0m \u001b[32m168.4/168.4 MB\u001b[0m \u001b[31m182.6 MB/s\u001b[0m eta \u001b[36m0:00:00\u001b[0m\n",
            "\u001b[?25hDownloading nvidia_curand_cu11-10.2.10.91-py3-none-manylinux1_x86_64.whl (54.6 MB)\n",
            "\u001b[2K   \u001b[90m━━━━━━━━━━━━━━━━━━━━━━━━━━━━━━━━━━━━━━━━\u001b[0m \u001b[32m54.6/54.6 MB\u001b[0m \u001b[31m174.4 MB/s\u001b[0m eta \u001b[36m0:00:00\u001b[0m\n",
            "\u001b[?25hDownloading nvidia_cusolver_cu11-11.4.0.1-2-py3-none-manylinux1_x86_64.whl (102.6 MB)\n",
            "\u001b[2K   \u001b[90m━━━━━━━━━━━━━━━━━━━━━━━━━━━━━━━━━━━━━━━━\u001b[0m \u001b[32m102.6/102.6 MB\u001b[0m \u001b[31m128.0 MB/s\u001b[0m eta \u001b[36m0:00:00\u001b[0m\n",
            "\u001b[?25hDownloading nvidia_cusparse_cu11-11.7.4.91-py3-none-manylinux1_x86_64.whl (173.2 MB)\n",
            "\u001b[2K   \u001b[90m━━━━━━━━━━━━━━━━━━━━━━━━━━━━━━━━━━━━━━━━\u001b[0m \u001b[32m173.2/173.2 MB\u001b[0m \u001b[31m169.4 MB/s\u001b[0m eta \u001b[36m0:00:00\u001b[0m\n",
            "\u001b[?25hDownloading nvidia_nccl_cu11-2.14.3-py3-none-manylinux1_x86_64.whl (177.1 MB)\n",
            "\u001b[2K   \u001b[90m━━━━━━━━━━━━━━━━━━━━━━━━━━━━━━━━━━━━━━━━\u001b[0m \u001b[32m177.1/177.1 MB\u001b[0m \u001b[31m200.9 MB/s\u001b[0m eta \u001b[36m0:00:00\u001b[0m\n",
            "\u001b[?25hDownloading nvidia_nvtx_cu11-11.7.91-py3-none-manylinux1_x86_64.whl (98 kB)\n",
            "\u001b[2K   \u001b[90m━━━━━━━━━━━━━━━━━━━━━━━━━━━━━━━━━━━━━━━━\u001b[0m \u001b[32m98.6/98.6 kB\u001b[0m \u001b[31m207.6 MB/s\u001b[0m eta \u001b[36m0:00:00\u001b[0m\n",
            "\u001b[?25hDownloading triton-2.0.0-1-cp310-cp310-manylinux2014_x86_64.manylinux_2_17_x86_64.whl (63.3 MB)\n",
            "\u001b[2K   \u001b[90m━━━━━━━━━━━━━━━━━━━━━━━━━━━━━━━━━━━━━━━━\u001b[0m \u001b[32m63.3/63.3 MB\u001b[0m \u001b[31m228.6 MB/s\u001b[0m eta \u001b[36m0:00:00\u001b[0m\n",
            "\u001b[?25hDownloading datasets-3.2.0-py3-none-any.whl (480 kB)\n",
            "\u001b[2K   \u001b[90m━━━━━━━━━━━━━━━━━━━━━━━━━━━━━━━━━━━━━━━━\u001b[0m \u001b[32m480.6/480.6 kB\u001b[0m \u001b[31m295.5 MB/s\u001b[0m eta \u001b[36m0:00:00\u001b[0m\n",
            "\u001b[?25hDownloading dill-0.3.8-py3-none-any.whl (116 kB)\n",
            "\u001b[2K   \u001b[90m━━━━━━━━━━━━━━━━━━━━━━━━━━━━━━━━━━━━━━━━\u001b[0m \u001b[32m116.3/116.3 kB\u001b[0m \u001b[31m242.6 MB/s\u001b[0m eta \u001b[36m0:00:00\u001b[0m\n",
            "\u001b[?25hDownloading fsspec-2024.9.0-py3-none-any.whl (179 kB)\n",
            "\u001b[2K   \u001b[90m━━━━━━━━━━━━━━━━━━━━━━━━━━━━━━━━━━━━━━━━\u001b[0m \u001b[32m179.3/179.3 kB\u001b[0m \u001b[31m142.8 MB/s\u001b[0m eta \u001b[36m0:00:00\u001b[0m\n",
            "\u001b[?25hDownloading multiprocess-0.70.16-py310-none-any.whl (134 kB)\n",
            "\u001b[2K   \u001b[90m━━━━━━━━━━━━━━━━━━━━━━━━━━━━━━━━━━━━━━━━\u001b[0m \u001b[32m134.8/134.8 kB\u001b[0m \u001b[31m219.4 MB/s\u001b[0m eta \u001b[36m0:00:00\u001b[0m\n",
            "\u001b[?25hDownloading tokenizers-0.13.3-cp310-cp310-manylinux_2_17_x86_64.manylinux2014_x86_64.whl (7.8 MB)\n",
            "\u001b[2K   \u001b[90m━━━━━━━━━━━━━━━━━━━━━━━━━━━━━━━━━━━━━━━━\u001b[0m \u001b[32m7.8/7.8 MB\u001b[0m \u001b[31m178.3 MB/s\u001b[0m eta \u001b[36m0:00:00\u001b[0m\n",
            "\u001b[?25hDownloading xxhash-3.5.0-cp310-cp310-manylinux_2_17_x86_64.manylinux2014_x86_64.whl (194 kB)\n",
            "\u001b[2K   \u001b[90m━━━━━━━━━━━━━━━━━━━━━━━━━━━━━━━━━━━━━━━━\u001b[0m \u001b[32m194.1/194.1 kB\u001b[0m \u001b[31m260.4 MB/s\u001b[0m eta \u001b[36m0:00:00\u001b[0m\n",
            "\u001b[?25hDownloading lit-18.1.8-py3-none-any.whl (96 kB)\n",
            "\u001b[2K   \u001b[90m━━━━━━━━━━━━━━━━━━━━━━━━━━━━━━━━━━━━━━━━\u001b[0m \u001b[32m96.4/96.4 kB\u001b[0m \u001b[31m148.9 MB/s\u001b[0m eta \u001b[36m0:00:00\u001b[0m\n",
            "\u001b[?25hInstalling collected packages: tokenizers, lit, xxhash, nvidia-nvtx-cu11, nvidia-nccl-cu11, nvidia-cusparse-cu11, nvidia-curand-cu11, nvidia-cufft-cu11, nvidia-cuda-runtime-cu11, nvidia-cuda-nvrtc-cu11, nvidia-cuda-cupti-cu11, nvidia-cublas-cu11, fsspec, dill, nvidia-cusolver-cu11, nvidia-cudnn-cu11, multiprocess, transformers, datasets, triton, torch, torchvision\n",
            "  Attempting uninstall: tokenizers\n",
            "    Found existing installation: tokenizers 0.20.3\n",
            "    Uninstalling tokenizers-0.20.3:\n",
            "      Successfully uninstalled tokenizers-0.20.3\n",
            "  Attempting uninstall: fsspec\n",
            "    Found existing installation: fsspec 2024.10.0\n",
            "    Uninstalling fsspec-2024.10.0:\n",
            "      Successfully uninstalled fsspec-2024.10.0\n",
            "  Attempting uninstall: transformers\n",
            "    Found existing installation: transformers 4.46.3\n",
            "    Uninstalling transformers-4.46.3:\n",
            "      Successfully uninstalled transformers-4.46.3\n",
            "  Attempting uninstall: torch\n",
            "    Found existing installation: torch 2.5.1+cu121\n",
            "    Uninstalling torch-2.5.1+cu121:\n",
            "      Successfully uninstalled torch-2.5.1+cu121\n",
            "  Attempting uninstall: torchvision\n",
            "    Found existing installation: torchvision 0.20.1+cu121\n",
            "    Uninstalling torchvision-0.20.1+cu121:\n",
            "      Successfully uninstalled torchvision-0.20.1+cu121\n",
            "\u001b[31mERROR: pip's dependency resolver does not currently take into account all the packages that are installed. This behaviour is the source of the following dependency conflicts.\n",
            "gcsfs 2024.10.0 requires fsspec==2024.10.0, but you have fsspec 2024.9.0 which is incompatible.\n",
            "sentence-transformers 3.2.1 requires transformers<5.0.0,>=4.41.0, but you have transformers 4.30.2 which is incompatible.\n",
            "torchaudio 2.5.1+cu121 requires torch==2.5.1, but you have torch 2.0.1 which is incompatible.\u001b[0m\u001b[31m\n",
            "\u001b[0mSuccessfully installed datasets-3.2.0 dill-0.3.8 fsspec-2024.9.0 lit-18.1.8 multiprocess-0.70.16 nvidia-cublas-cu11-11.10.3.66 nvidia-cuda-cupti-cu11-11.7.101 nvidia-cuda-nvrtc-cu11-11.7.99 nvidia-cuda-runtime-cu11-11.7.99 nvidia-cudnn-cu11-8.5.0.96 nvidia-cufft-cu11-10.9.0.58 nvidia-curand-cu11-10.2.10.91 nvidia-cusolver-cu11-11.4.0.1 nvidia-cusparse-cu11-11.7.4.91 nvidia-nccl-cu11-2.14.3 nvidia-nvtx-cu11-11.7.91 tokenizers-0.13.3 torch-2.0.1 torchvision-0.15.2 transformers-4.30.2 triton-2.0.0 xxhash-3.5.0\n"
          ]
        }
      ]
    },
    {
      "cell_type": "markdown",
      "source": [
        "#### Dataset Overview\n",
        "\n",
        "Table 1. GoEmotions Dataset Overview\n",
        "\n",
        "Description: A table summarizing the number of samples in the training, validation, test sets, along with the total number of emotion classes."
      ],
      "metadata": {
        "id": "foB98MofM3-i"
      }
    },
    {
      "cell_type": "code",
      "execution_count": null,
      "metadata": {
        "colab": {
          "base_uri": "https://localhost:8080/"
        },
        "id": "2Fa5jXSzLIog",
        "outputId": "6a982a90-8703-4825-a50d-d1fb74a64649"
      },
      "outputs": [
        {
          "output_type": "stream",
          "name": "stdout",
          "text": [
            "\n",
            "Dataset Splits:\n",
            "+------------+---------------------+\n",
            "| Split      |   Number of Samples |\n",
            "+============+=====================+\n",
            "| Train      |               43410 |\n",
            "+------------+---------------------+\n",
            "| Validation |                5426 |\n",
            "+------------+---------------------+\n",
            "| Test       |                5427 |\n",
            "+------------+---------------------+\n"
          ]
        }
      ],
      "source": [
        "from datasets import load_dataset\n",
        "from tabulate import tabulate\n",
        "import pandas as pd\n",
        "import numpy as np\n",
        "import matplotlib.pyplot as plt\n",
        "from collections import Counter\n",
        "from transformers import AutoTokenizer\n",
        "\n",
        "dataset = load_dataset(\"go_emotions\")\n",
        "\n",
        "def summarize_dataset_splits(dataset):\n",
        "    train_size = len(dataset[\"train\"])\n",
        "    validation_size = len(dataset[\"validation\"])\n",
        "    test_size = len(dataset[\"test\"])\n",
        "    return {\"Train Samples\": train_size, \"Validation Samples\": validation_size, \"Test Samples\": test_size}\n",
        "\n",
        "split_summary = summarize_dataset_splits(dataset)\n",
        "\n",
        "def tabulate_dataset_splits(split_summary):\n",
        "    table = [\n",
        "        [\"Split\", \"Number of Samples\"],\n",
        "        [\"Train\", split_summary[\"Train Samples\"]],\n",
        "        [\"Validation\", split_summary[\"Validation Samples\"]],\n",
        "        [\"Test\", split_summary[\"Test Samples\"]],\n",
        "    ]\n",
        "    print(tabulate(table, headers=\"firstrow\", tablefmt=\"grid\"))\n",
        "\n",
        "print(\"\\nDataset Splits:\")\n",
        "tabulate_dataset_splits(split_summary)"
      ]
    },
    {
      "cell_type": "code",
      "source": [
        "def summarize_dataset_classes(dataset):\n",
        "    label_names = dataset[\"train\"].features[\"labels\"].feature.names\n",
        "    num_classes = len(label_names)\n",
        "    return {\"Number of Unique Classes\": num_classes, \"Emotion Labels\": label_names}\n",
        "\n",
        "class_summary = summarize_dataset_classes(dataset)\n",
        "\n",
        "def tabulate_dataset_classes(class_summary):\n",
        "    num_classes_table = [\n",
        "        [\"Metric\", \"Value\"],\n",
        "        [\"Number of Unique Classes\", class_summary[\"Number of Unique Classes\"]]\n",
        "    ]\n",
        "    print(tabulate(num_classes_table, headers=\"firstrow\", tablefmt=\"grid\"))\n",
        "\n",
        "print(\"\\nDataset Classes:\")\n",
        "tabulate_dataset_classes(class_summary)"
      ],
      "metadata": {
        "colab": {
          "base_uri": "https://localhost:8080/"
        },
        "id": "_zNAkrRCTF0O",
        "outputId": "9845d925-b65f-449f-885e-e489cf5f0e24"
      },
      "execution_count": null,
      "outputs": [
        {
          "output_type": "stream",
          "name": "stdout",
          "text": [
            "\n",
            "Dataset Classes:\n",
            "+--------------------------+---------+\n",
            "| Metric                   |   Value |\n",
            "+==========================+=========+\n",
            "| Number of Unique Classes |      28 |\n",
            "+--------------------------+---------+\n"
          ]
        }
      ]
    },
    {
      "cell_type": "code",
      "source": [
        "def compute_class_distribution_percentage(dataset, split_name):\n",
        "    label_names = dataset[split_name].features[\"labels\"].feature.names\n",
        "    num_labels = len(label_names)\n",
        "\n",
        "    label_counts = np.zeros(num_labels, dtype=int)\n",
        "    for sample in dataset[split_name]:\n",
        "        for label in sample[\"labels\"]:\n",
        "            label_counts[label] += 1\n",
        "\n",
        "    total_samples = len(dataset[split_name])\n",
        "    label_percentages = np.round((label_counts / total_samples) * 100, 1)\n",
        "\n",
        "    return pd.DataFrame({\"Label\": label_names, \"Percentage\": label_percentages})\n",
        "\n",
        "train_distribution_percentage = compute_class_distribution_percentage(dataset, \"train\")\n",
        "validation_distribution_percentage = compute_class_distribution_percentage(dataset, \"validation\")\n",
        "test_distribution_percentage = compute_class_distribution_percentage(dataset, \"test\")\n",
        "\n",
        "combined_distribution = pd.DataFrame({\n",
        "    \"Label\": train_distribution_percentage[\"Label\"],\n",
        "    \"Train (%)\": train_distribution_percentage[\"Percentage\"],\n",
        "    \"Validation (%)\": validation_distribution_percentage[\"Percentage\"],\n",
        "    \"Test (%)\": test_distribution_percentage[\"Percentage\"]\n",
        "})\n",
        "\n",
        "print(\"\\nClass Distribution Percentages:\")\n",
        "print(tabulate(combined_distribution, headers=\"keys\", tablefmt=\"grid\", showindex=False))"
      ],
      "metadata": {
        "colab": {
          "base_uri": "https://localhost:8080/"
        },
        "id": "uw-OJGmTTKhQ",
        "outputId": "e16a1c57-ecad-4d52-a37e-5870d66c7466"
      },
      "execution_count": null,
      "outputs": [
        {
          "output_type": "stream",
          "name": "stdout",
          "text": [
            "\n",
            "Class Distribution Percentages:\n",
            "+----------------+-------------+------------------+------------+\n",
            "| Label          |   Train (%) |   Validation (%) |   Test (%) |\n",
            "+================+=============+==================+============+\n",
            "| admiration     |         9.5 |              9   |        9.3 |\n",
            "+----------------+-------------+------------------+------------+\n",
            "| amusement      |         5.4 |              5.6 |        4.9 |\n",
            "+----------------+-------------+------------------+------------+\n",
            "| anger          |         3.6 |              3.6 |        3.6 |\n",
            "+----------------+-------------+------------------+------------+\n",
            "| annoyance      |         5.7 |              5.6 |        5.9 |\n",
            "+----------------+-------------+------------------+------------+\n",
            "| approval       |         6.8 |              7.3 |        6.5 |\n",
            "+----------------+-------------+------------------+------------+\n",
            "| caring         |         2.5 |              2.8 |        2.5 |\n",
            "+----------------+-------------+------------------+------------+\n",
            "| confusion      |         3.2 |              2.8 |        2.8 |\n",
            "+----------------+-------------+------------------+------------+\n",
            "| curiosity      |         5   |              4.6 |        5.2 |\n",
            "+----------------+-------------+------------------+------------+\n",
            "| desire         |         1.5 |              1.4 |        1.5 |\n",
            "+----------------+-------------+------------------+------------+\n",
            "| disappointment |         2.9 |              3   |        2.8 |\n",
            "+----------------+-------------+------------------+------------+\n",
            "| disapproval    |         4.7 |              5.4 |        4.9 |\n",
            "+----------------+-------------+------------------+------------+\n",
            "| disgust        |         1.8 |              1.8 |        2.3 |\n",
            "+----------------+-------------+------------------+------------+\n",
            "| embarrassment  |         0.7 |              0.6 |        0.7 |\n",
            "+----------------+-------------+------------------+------------+\n",
            "| excitement     |         2   |              1.8 |        1.9 |\n",
            "+----------------+-------------+------------------+------------+\n",
            "| fear           |         1.4 |              1.7 |        1.4 |\n",
            "+----------------+-------------+------------------+------------+\n",
            "| gratitude      |         6.1 |              6.6 |        6.5 |\n",
            "+----------------+-------------+------------------+------------+\n",
            "| grief          |         0.2 |              0.2 |        0.1 |\n",
            "+----------------+-------------+------------------+------------+\n",
            "| joy            |         3.3 |              3.2 |        3   |\n",
            "+----------------+-------------+------------------+------------+\n",
            "| love           |         4.8 |              4.6 |        4.4 |\n",
            "+----------------+-------------+------------------+------------+\n",
            "| nervousness    |         0.4 |              0.4 |        0.4 |\n",
            "+----------------+-------------+------------------+------------+\n",
            "| optimism       |         3.6 |              3.9 |        3.4 |\n",
            "+----------------+-------------+------------------+------------+\n",
            "| pride          |         0.3 |              0.3 |        0.3 |\n",
            "+----------------+-------------+------------------+------------+\n",
            "| realization    |         2.6 |              2.3 |        2.7 |\n",
            "+----------------+-------------+------------------+------------+\n",
            "| relief         |         0.4 |              0.3 |        0.2 |\n",
            "+----------------+-------------+------------------+------------+\n",
            "| remorse        |         1.3 |              1.3 |        1   |\n",
            "+----------------+-------------+------------------+------------+\n",
            "| sadness        |         3.1 |              2.6 |        2.9 |\n",
            "+----------------+-------------+------------------+------------+\n",
            "| surprise       |         2.4 |              2.4 |        2.6 |\n",
            "+----------------+-------------+------------------+------------+\n",
            "| neutral        |        32.8 |             32.5 |       32.9 |\n",
            "+----------------+-------------+------------------+------------+\n"
          ]
        }
      ]
    },
    {
      "cell_type": "markdown",
      "source": [
        "### Class Distribution\n",
        "\n",
        "Figure 1. Class Distribution in the GoEmotions Dataset\n",
        "\n",
        "Description: A horizontal bar chart showing the frequency of each emotion label in the training set, highlighting class imbalances."
      ],
      "metadata": {
        "id": "QaaowJQJM9uw"
      }
    },
    {
      "cell_type": "code",
      "source": [
        "train_labels = dataset[\"train\"][\"labels\"]\n",
        "class_counts = np.zeros(num_classes)\n",
        "\n",
        "for sample_labels in train_labels:\n",
        "    for label in sample_labels:\n",
        "        class_counts[label] += 1\n",
        "\n",
        "plt.figure(figsize=(10, 6))\n",
        "plt.barh(label_names, class_counts, color=\"skyblue\")\n",
        "plt.xlabel(\"Frequency\")\n",
        "plt.ylabel(\"Emotion Labels\")\n",
        "plt.title(\"Class Distribution in the Training Set\")\n",
        "plt.tight_layout()\n",
        "plt.show()"
      ],
      "metadata": {
        "colab": {
          "base_uri": "https://localhost:8080/",
          "height": 608
        },
        "id": "3PuVMbLkM8XV",
        "outputId": "036c6c4c-4060-4578-ecf0-6b22de43ae7a"
      },
      "execution_count": null,
      "outputs": [
        {
          "output_type": "display_data",
          "data": {
            "text/plain": [
              "<Figure size 1000x600 with 1 Axes>"
            ],
            "image/png": "[encoded data removed]"
          },
          "metadata": {}
        }
      ]
    },
    {
      "cell_type": "markdown",
      "source": [
        "### Example Text Samples and Labels\n",
        "\n",
        "Table 2. Example Text Samples with Emotion Labels\n",
        "\n",
        "Description: A table showcasing a few text samples along with their corresponding emotion labels to highlight"
      ],
      "metadata": {
        "id": "dkMsFA1tM89R"
      }
    },
    {
      "cell_type": "code",
      "source": [
        "def get_examples_per_category(dataset, label_names, split=\"train\"):\n",
        "    examples = []\n",
        "    seen_labels = set()\n",
        "\n",
        "    for sample in dataset[split]:\n",
        "        text = sample[\"text\"]\n",
        "        labels = sample[\"labels\"]\n",
        "        for label in labels:\n",
        "            if label not in seen_labels:\n",
        "                decoded_label = label_names[label]\n",
        "                examples.append({\"Category\": decoded_label, \"Text\": text})\n",
        "                seen_labels.add(label)\n",
        "                if len(seen_labels) == len(label_names):\n",
        "                    return examples\n",
        "    return examples\n",
        "\n",
        "def tabulate_examples(examples):\n",
        "    table = [[\"Category\", \"Example Text\"]]\n",
        "    for example in examples:\n",
        "        table.append([example[\"Category\"], example[\"Text\"]])\n",
        "    print(tabulate(table, headers=\"firstrow\", tablefmt=\"grid\"))\n",
        "\n",
        "examples = get_examples_per_category(dataset, label_names, split=\"train\")\n",
        "tabulate_examples(examples)"
      ],
      "metadata": {
        "colab": {
          "base_uri": "https://localhost:8080/"
        },
        "id": "ehK50LYWMWSM",
        "outputId": "a68145a9-872f-408b-f825-591614c9dfbb"
      },
      "execution_count": null,
      "outputs": [
        {
          "output_type": "stream",
          "name": "stdout",
          "text": [
            "+----------------+-------------------------------------------------------------------------------------------------------------------------------+\n",
            "| Category       | Example Text                                                                                                                  |\n",
            "+================+===============================================================================================================================+\n",
            "| neutral        | My favourite food is anything I didn't have to cook myself.                                                                   |\n",
            "+----------------+-------------------------------------------------------------------------------------------------------------------------------+\n",
            "| anger          | WHY THE FUCK IS BAYLESS ISOING                                                                                                |\n",
            "+----------------+-------------------------------------------------------------------------------------------------------------------------------+\n",
            "| fear           | To make her feel threatened                                                                                                   |\n",
            "+----------------+-------------------------------------------------------------------------------------------------------------------------------+\n",
            "| annoyance      | Dirty Southern Wankers                                                                                                        |\n",
            "+----------------+-------------------------------------------------------------------------------------------------------------------------------+\n",
            "| surprise       | OmG pEyToN iSn'T gOoD eNoUgH tO hElP uS iN tHe PlAyOfFs! Dumbass Broncos fans circa December 2015.                            |\n",
            "+----------------+-------------------------------------------------------------------------------------------------------------------------------+\n",
            "| gratitude      | Yes I heard abt the f bombs! That has to be why. Thanks for your reply:) until then hubby and I will anxiously wait 😝        |\n",
            "+----------------+-------------------------------------------------------------------------------------------------------------------------------+\n",
            "| desire         | We need more boards and to create a bit more space for [NAME]. Then we’ll be good.                                            |\n",
            "+----------------+-------------------------------------------------------------------------------------------------------------------------------+\n",
            "| optimism       | We need more boards and to create a bit more space for [NAME]. Then we’ll be good.                                            |\n",
            "+----------------+-------------------------------------------------------------------------------------------------------------------------------+\n",
            "| admiration     | Damn youtube and outrage drama is super lucrative for reddit                                                                  |\n",
            "+----------------+-------------------------------------------------------------------------------------------------------------------------------+\n",
            "| confusion      | Demographics? I don’t know anybody under 35 who has cable tv.                                                                 |\n",
            "+----------------+-------------------------------------------------------------------------------------------------------------------------------+\n",
            "| amusement      | Aww... she'll probably come around eventually, I'm sure she was just jealous of [NAME]... I mean, what woman wouldn't be! lol |\n",
            "+----------------+-------------------------------------------------------------------------------------------------------------------------------+\n",
            "| approval       | Aww... she'll probably come around eventually, I'm sure she was just jealous of [NAME]... I mean, what woman wouldn't be! lol |\n",
            "+----------------+-------------------------------------------------------------------------------------------------------------------------------+\n",
            "| caring         | R/sleeptrain Might be time for some sleep training. Take a look and try to feel out what's right for your family.             |\n",
            "+----------------+-------------------------------------------------------------------------------------------------------------------------------+\n",
            "| embarrassment  | Shit, I guess I accidentally bought a Pay-Per-View boxing match                                                               |\n",
            "+----------------+-------------------------------------------------------------------------------------------------------------------------------+\n",
            "| realization    | Maybe that’s what happened to the great white at Houston zoo                                                                  |\n",
            "+----------------+-------------------------------------------------------------------------------------------------------------------------------+\n",
            "| disappointment | I never thought it was at the same moment, but sometimes after [NAME] sacrifice... sounds logical                             |\n",
            "+----------------+-------------------------------------------------------------------------------------------------------------------------------+\n",
            "| grief          | I miss them being alive                                                                                                       |\n",
            "+----------------+-------------------------------------------------------------------------------------------------------------------------------+\n",
            "| sadness        | I miss them being alive                                                                                                       |\n",
            "+----------------+-------------------------------------------------------------------------------------------------------------------------------+\n",
            "| curiosity      | Ok, then what the actual fuck is your plan?                                                                                   |\n",
            "+----------------+-------------------------------------------------------------------------------------------------------------------------------+\n",
            "| joy            | Happy to be able to help.                                                                                                     |\n",
            "+----------------+-------------------------------------------------------------------------------------------------------------------------------+\n",
            "| love           | Thanks! I love watching him every week                                                                                        |\n",
            "+----------------+-------------------------------------------------------------------------------------------------------------------------------+\n",
            "| excitement     | It's crazy how far Photoshop has come. Underwater bridges?!! NEVER!!!                                                         |\n",
            "+----------------+-------------------------------------------------------------------------------------------------------------------------------+\n",
            "| disapproval    | I wouldn't let a sweet potato dictate decisions, ever.                                                                        |\n",
            "+----------------+-------------------------------------------------------------------------------------------------------------------------------+\n",
            "| remorse        | Apologies, I take it all back as I’ve just seen his latest effort                                                             |\n",
            "+----------------+-------------------------------------------------------------------------------------------------------------------------------+\n",
            "| disgust        | youre a disgusting piece of filth.                                                                                            |\n",
            "+----------------+-------------------------------------------------------------------------------------------------------------------------------+\n",
            "| relief         | Glad you feel better! My offer still stands though, if you need someone, I’m here                                             |\n",
            "+----------------+-------------------------------------------------------------------------------------------------------------------------------+\n",
            "| pride          | I am just like this! Glad to know I’m not imagining it.                                                                       |\n",
            "+----------------+-------------------------------------------------------------------------------------------------------------------------------+\n",
            "| nervousness    | same but with panic at the disco                                                                                              |\n",
            "+----------------+-------------------------------------------------------------------------------------------------------------------------------+\n"
          ]
        }
      ]
    },
    {
      "cell_type": "markdown",
      "source": [
        "### Highlighting Overlapping Labels\n",
        "\n",
        "Table 3. Top Overlapping Emotion Label Pairs\n",
        "\n",
        "Description: A table presenting the most frequently co-occuring emotion labels to emphasize the complexity of distinguishing between similar emotions.\n",
        "\n"
      ],
      "metadata": {
        "id": "ISZ70VC9Oxis"
      }
    },
    {
      "cell_type": "code",
      "source": [
        "def compute_and_display_overlapping_pairs(train_labels, label_names, top_n=10):\n",
        "    pair_counts = Counter()\n",
        "\n",
        "    for sample_labels in train_labels:\n",
        "        for i in range(len(sample_labels)):\n",
        "            for j in range(i + 1, len(sample_labels)):\n",
        "                pair_counts[(sample_labels[i], sample_labels[j])] += 1\n",
        "\n",
        "    overlapping_pairs = sorted(pair_counts.items(), key=lambda x: x[1], reverse=True)[:top_n]\n",
        "\n",
        "    table = [[\"Label 1\", \"Label 2\", \"Count\"]]\n",
        "    for (label1, label2), count in overlapping_pairs:\n",
        "        table.append([label_names[label1], label_names[label2], count])\n",
        "\n",
        "    print(tabulate(table, headers=\"firstrow\", tablefmt=\"grid\"))\n",
        "\n",
        "compute_and_display_overlapping_pairs(train_labels, label_names)"
      ],
      "metadata": {
        "colab": {
          "base_uri": "https://localhost:8080/"
        },
        "id": "X7bYBXvcOHkq",
        "outputId": "6eb90e15-ccc2-4be2-e502-c53cc1b2cd81"
      },
      "execution_count": null,
      "outputs": [
        {
          "output_type": "stream",
          "name": "stdout",
          "text": [
            "+----------------+-------------+---------+\n",
            "| Label 1        | Label 2     |   Count |\n",
            "+================+=============+=========+\n",
            "| admiration     | gratitude   |     279 |\n",
            "+----------------+-------------+---------+\n",
            "| anger          | annoyance   |     269 |\n",
            "+----------------+-------------+---------+\n",
            "| admiration     | approval    |     246 |\n",
            "+----------------+-------------+---------+\n",
            "| confusion      | curiosity   |     212 |\n",
            "+----------------+-------------+---------+\n",
            "| approval       | neutral     |     202 |\n",
            "+----------------+-------------+---------+\n",
            "| admiration     | love        |     192 |\n",
            "+----------------+-------------+---------+\n",
            "| annoyance      | disapproval |     178 |\n",
            "+----------------+-------------+---------+\n",
            "| disappointment | sadness     |     133 |\n",
            "+----------------+-------------+---------+\n",
            "| annoyance      | neutral     |     132 |\n",
            "+----------------+-------------+---------+\n",
            "| admiration     | joy         |     126 |\n",
            "+----------------+-------------+---------+\n"
          ]
        }
      ]
    },
    {
      "cell_type": "markdown",
      "source": [
        "### Tokenization and Preprocessing Analysis\n",
        "\n",
        "Figure 2. Token Length Distribution in the Training Set\n",
        "\n",
        "Description: A histogram illustrating the distribution of tokenized text lengths, demonstrating the need for truncation and padding during preprocessing."
      ],
      "metadata": {
        "id": "bOIoD88xPLcr"
      }
    },
    {
      "cell_type": "code",
      "source": [
        "def initialize_tokenizer(model_name=\"roberta-base\"):\n",
        "    return AutoTokenizer.from_pretrained(model_name)\n",
        "\n",
        "def analyze_sample_text(tokenizer, sample_text, max_length=64):\n",
        "    encoded_sample = tokenizer(sample_text, truncation=True, padding=\"max_length\", max_length=max_length)\n",
        "    print(\"Original Text:\", sample_text)\n",
        "    print(\"Tokenized Input IDs:\", encoded_sample[\"input_ids\"])\n",
        "    print(\"Attention Mask:\", encoded_sample[\"attention_mask\"])\n",
        "\n",
        "def analyze_token_lengths(tokenizer, dataset, split=\"train\", max_length=64):\n",
        "    token_lengths = []\n",
        "    for sample in dataset[split][\"text\"]:\n",
        "        tokenized_sample = tokenizer(sample, truncation=True, max_length=max_length)\n",
        "        token_lengths.append(len(tokenized_sample[\"input_ids\"]))\n",
        "    return token_lengths\n",
        "\n",
        "def plot_token_length_distribution(token_lengths):\n",
        "\n",
        "    plt.figure(figsize=(8, 6))\n",
        "    plt.hist(token_lengths, bins=30, color=\"skyblue\", edgecolor=\"black\")\n",
        "    plt.title(\"Token Length Distribution\")\n",
        "    plt.xlabel(\"Token Length\")\n",
        "    plt.ylabel(\"Frequency\")\n",
        "    plt.show()\n",
        "\n",
        "tokenizer = initialize_tokenizer()\n",
        "\n",
        "sample_text = dataset[\"train\"][0][\"text\"]\n",
        "analyze_sample_text(tokenizer, sample_text)\n",
        "\n",
        "token_lengths = analyze_token_lengths(tokenizer, dataset, split=\"train\")\n",
        "\n",
        "plot_token_length_distribution(token_lengths)"
      ],
      "metadata": {
        "colab": {
          "base_uri": "https://localhost:8080/",
          "height": 636
        },
        "id": "QGFeHgMUO08A",
        "outputId": "ebe27e8f-245a-4e07-c58a-6c0e562f91d6"
      },
      "execution_count": null,
      "outputs": [
        {
          "output_type": "stream",
          "name": "stdout",
          "text": [
            "Original Text: My favourite food is anything I didn't have to cook myself.\n",
            "Tokenized Input IDs: [0, 2387, 5548, 689, 16, 932, 38, 399, 75, 33, 7, 7142, 2185, 4, 2, 1, 1, 1, 1, 1, 1, 1, 1, 1, 1, 1, 1, 1, 1, 1, 1, 1, 1, 1, 1, 1, 1, 1, 1, 1, 1, 1, 1, 1, 1, 1, 1, 1, 1, 1, 1, 1, 1, 1, 1, 1, 1, 1, 1, 1, 1, 1, 1, 1]\n",
            "Attention Mask: [1, 1, 1, 1, 1, 1, 1, 1, 1, 1, 1, 1, 1, 1, 1, 0, 0, 0, 0, 0, 0, 0, 0, 0, 0, 0, 0, 0, 0, 0, 0, 0, 0, 0, 0, 0, 0, 0, 0, 0, 0, 0, 0, 0, 0, 0, 0, 0, 0, 0, 0, 0, 0, 0, 0, 0, 0, 0, 0, 0, 0, 0, 0, 0]\n"
          ]
        },
        {
          "output_type": "display_data",
          "data": {
            "text/plain": [
              "<Figure size 800x600 with 1 Axes>"
            ],
            "image/png": "[encoded data removed]"
          },
          "metadata": {}
        }
      ]
    }
  ]
}